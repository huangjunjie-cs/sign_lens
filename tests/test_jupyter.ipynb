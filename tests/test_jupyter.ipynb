{
 "cells": [
  {
   "cell_type": "code",
   "execution_count": 4,
   "id": "d022bd5a-dfbd-47de-a514-3fd77fe017c8",
   "metadata": {},
   "outputs": [],
   "source": [
    "import matplotlib.pyplot as plt\n",
    "import numpy as np\n",
    "import math"
   ]
  },
  {
   "cell_type": "code",
   "execution_count": 5,
   "id": "aebc0073-1858-4ea2-a3ce-d80f3faecfa2",
   "metadata": {},
   "outputs": [],
   "source": [
    "i = (1, 1)\n",
    "j = (2, 1)\n",
    "k = (1.5, 1 * np.sin(np.pi / 3))"
   ]
  },
  {
   "cell_type": "code",
   "execution_count": 6,
   "id": "f67d54d3-f4e6-4a73-8fe1-8dd5ed265e3d",
   "metadata": {},
   "outputs": [
    {
     "data": {
      "text/plain": [
       "(1.5, 0.8660254037844386)"
      ]
     },
     "execution_count": 6,
     "metadata": {},
     "output_type": "execute_result"
    }
   ],
   "source": [
    "k"
   ]
  },
  {
   "cell_type": "code",
   "execution_count": 13,
   "id": "9d28667e-9c93-4bb8-a9d3-e57704517d21",
   "metadata": {},
   "outputs": [],
   "source": [
    "ps = -1 *np.array([k, i, j])"
   ]
  },
  {
   "cell_type": "code",
   "execution_count": 32,
   "id": "34449c08-9855-426d-b5a2-e709cf8d9c4f",
   "metadata": {},
   "outputs": [
    {
     "ename": "ModuleNotFoundError",
     "evalue": "No module named 'sign_lens'",
     "output_type": "error",
     "traceback": [
      "\u001b[0;31m---------------------------------------------------------------------------\u001b[0m",
      "\u001b[0;31mModuleNotFoundError\u001b[0m                       Traceback (most recent call last)",
      "\u001b[0;32m<ipython-input-32-fc6b7b168276>\u001b[0m in \u001b[0;36m<module>\u001b[0;34m\u001b[0m\n\u001b[0;32m----> 1\u001b[0;31m \u001b[0;32mfrom\u001b[0m \u001b[0msign_lens\u001b[0m \u001b[0;32mimport\u001b[0m \u001b[0mSignLens\u001b[0m\u001b[0;34m\u001b[0m\u001b[0;34m\u001b[0m\u001b[0m\n\u001b[0m",
      "\u001b[0;31mModuleNotFoundError\u001b[0m: No module named 'sign_lens'"
     ]
    }
   ],
   "source": [
    "from sign_lens import SignLens"
   ]
  },
  {
   "cell_type": "code",
   "execution_count": 30,
   "id": "ef47c178-942b-47e0-a41f-ab01786e145c",
   "metadata": {},
   "outputs": [
    {
     "data": {
      "text/plain": [
       "array([[[-1.5      , -1.5      ],\n",
       "        [-1.5      , -1.5      ],\n",
       "        [-1.5      , -1.5      ]],\n",
       "\n",
       "       [[-1.5      , -1.5      ],\n",
       "        [-1.5      , -1.5      ],\n",
       "        [-1.5      , -1.5      ]],\n",
       "\n",
       "       [[-1.5      , -1.5      ],\n",
       "        [-1.5      , -1.5      ],\n",
       "        [-0.8660254, -0.8660254]],\n",
       "\n",
       "       [[-0.8660254, -0.8660254],\n",
       "        [-0.8660254, -0.8660254],\n",
       "        [-0.8660254, -0.8660254]],\n",
       "\n",
       "       [[-0.8660254, -0.8660254],\n",
       "        [-0.8660254, -0.8660254],\n",
       "        [-0.8660254, -0.8660254]],\n",
       "\n",
       "       [[-0.8660254, -0.8660254],\n",
       "        [-1.       , -1.       ],\n",
       "        [-1.       , -1.       ]],\n",
       "\n",
       "       [[-1.       , -1.       ],\n",
       "        [-1.       , -1.       ],\n",
       "        [-1.       , -1.       ]],\n",
       "\n",
       "       [[-1.       , -1.       ],\n",
       "        [-1.       , -1.       ],\n",
       "        [-1.       , -1.       ]],\n",
       "\n",
       "       [[-1.       , -1.       ],\n",
       "        [-1.       , -1.       ],\n",
       "        [-1.       , -1.       ]],\n",
       "\n",
       "       [[-1.       , -1.       ],\n",
       "        [-1.       , -1.       ],\n",
       "        [-1.       , -1.       ]],\n",
       "\n",
       "       [[-1.       , -1.       ],\n",
       "        [-1.       , -1.       ],\n",
       "        [-2.       , -2.       ]],\n",
       "\n",
       "       [[-2.       , -2.       ],\n",
       "        [-2.       , -2.       ],\n",
       "        [-2.       , -2.       ]],\n",
       "\n",
       "       [[-2.       , -2.       ],\n",
       "        [-2.       , -2.       ],\n",
       "        [-2.       , -2.       ]],\n",
       "\n",
       "       [[-2.       , -2.       ],\n",
       "        [-1.       , -1.       ],\n",
       "        [-1.       , -1.       ]],\n",
       "\n",
       "       [[-1.       , -1.       ],\n",
       "        [-1.       , -1.       ],\n",
       "        [-1.       , -1.       ]],\n",
       "\n",
       "       [[-1.       , -1.       ],\n",
       "        [-1.       , -1.       ],\n",
       "        [-1.       , -1.       ]]])"
      ]
     },
     "execution_count": 30,
     "metadata": {},
     "output_type": "execute_result"
    }
   ],
   "source": []
  },
  {
   "cell_type": "code",
   "execution_count": null,
   "id": "e7a902fd-5b27-4fd6-9f4f-db6cb805305f",
   "metadata": {},
   "outputs": [],
   "source": []
  },
  {
   "cell_type": "code",
   "execution_count": null,
   "id": "074a950f-56b8-4ade-9e5f-54b84a740f29",
   "metadata": {},
   "outputs": [],
   "source": []
  },
  {
   "cell_type": "code",
   "execution_count": 19,
   "id": "f73bb7ad-4a0d-47a0-9363-a22756c88cc5",
   "metadata": {},
   "outputs": [
    {
     "data": {
      "image/png": "[encoded data removed]",
      "text/plain": [
       "<Figure size 432x288 with 1 Axes>"
      ]
     },
     "metadata": {
      "needs_background": "light"
     },
     "output_type": "display_data"
    }
   ],
   "source": [
    "for i in range(len(ps)):\n",
    "    j = (i + 1) % len(ps)\n",
    "    p1 = ps[i]\n",
    "    p2 = ps[j]\n",
    "    x = [p1[0], p2[0]]\n",
    "    y = [p1[1], p2[1]]\n",
    "    plt.plot(x, y, color='b')"
   ]
  },
  {
   "cell_type": "code",
   "execution_count": 15,
   "id": "9ce5ba92-5043-4583-9f38-7aa96b00bc43",
   "metadata": {},
   "outputs": [
    {
     "data": {
      "text/plain": [
       "<matplotlib.collections.PathCollection at 0x11c71a190>"
      ]
     },
     "execution_count": 15,
     "metadata": {},
     "output_type": "execute_result"
    },
    {
     "data": {
      "image/png": "[encoded data removed]",
      "text/plain": [
       "<Figure size 432x288 with 1 Axes>"
      ]
     },
     "metadata": {
      "needs_background": "light"
     },
     "output_type": "display_data"
    }
   ],
   "source": [
    "plt.scatter(ps[:, 0], ps[:, 1])"
   ]
  },
  {
   "cell_type": "code",
   "execution_count": null,
   "id": "15a9dd8d-47bc-400b-984f-1dd33b986c20",
   "metadata": {},
   "outputs": [],
   "source": []
  }
 ],
 "metadata": {
  "kernelspec": {
   "display_name": "Python 3",
   "language": "python",
   "name": "python3"
  },
  "language_info": {
   "codemirror_mode": {
    "name": "ipython",
    "version": 3
   },
   "file_extension": ".py",
   "mimetype": "text/x-python",
   "name": "python",
   "nbconvert_exporter": "python",
   "pygments_lexer": "ipython3",
   "version": "3.8.10"
  }
 },
 "nbformat": 4,
 "nbformat_minor": 5
}
